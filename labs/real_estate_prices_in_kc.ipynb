{
 "cells": [
  {
   "cell_type": "markdown",
   "metadata": {},
   "source": [
    "#"
   ]
  },
  {
   "cell_type": "code",
   "execution_count": 177,
   "metadata": {},
   "outputs": [
    {
     "name": "stdout",
     "output_type": "stream",
     "text": [
      "1.4.0\n"
     ]
    }
   ],
   "source": [
    "import numpy as np\n",
    "import matplotlib.pyplot as plt\n",
    "import tensorflow as tf\n",
    "import xlrd\n",
    "import pandas as pd\n",
    "DATA_FILE = 'data/kc_house_data.csv'\n",
    "print(tf.__version__)"
   ]
  },
  {
   "cell_type": "code",
   "execution_count": 450,
   "metadata": {},
   "outputs": [
    {
     "data": {
      "text/html": [
       "<div>\n",
       "<style>\n",
       "    .dataframe thead tr:only-child th {\n",
       "        text-align: right;\n",
       "    }\n",
       "\n",
       "    .dataframe thead th {\n",
       "        text-align: left;\n",
       "    }\n",
       "\n",
       "    .dataframe tbody tr th {\n",
       "        vertical-align: top;\n",
       "    }\n",
       "</style>\n",
       "<table border=\"1\" class=\"dataframe\">\n",
       "  <thead>\n",
       "    <tr style=\"text-align: right;\">\n",
       "      <th></th>\n",
       "      <th>price</th>\n",
       "      <th>sqft_living</th>\n",
       "    </tr>\n",
       "  </thead>\n",
       "  <tbody>\n",
       "    <tr>\n",
       "      <th>0</th>\n",
       "      <td>221900.0</td>\n",
       "      <td>1180</td>\n",
       "    </tr>\n",
       "    <tr>\n",
       "      <th>1</th>\n",
       "      <td>538000.0</td>\n",
       "      <td>2570</td>\n",
       "    </tr>\n",
       "    <tr>\n",
       "      <th>2</th>\n",
       "      <td>180000.0</td>\n",
       "      <td>770</td>\n",
       "    </tr>\n",
       "    <tr>\n",
       "      <th>3</th>\n",
       "      <td>604000.0</td>\n",
       "      <td>1960</td>\n",
       "    </tr>\n",
       "    <tr>\n",
       "      <th>4</th>\n",
       "      <td>510000.0</td>\n",
       "      <td>1680</td>\n",
       "    </tr>\n",
       "  </tbody>\n",
       "</table>\n",
       "</div>"
      ],
      "text/plain": [
       "      price  sqft_living\n",
       "0  221900.0         1180\n",
       "1  538000.0         2570\n",
       "2  180000.0          770\n",
       "3  604000.0         1960\n",
       "4  510000.0         1680"
      ]
     },
     "execution_count": 450,
     "metadata": {},
     "output_type": "execute_result"
    }
   ],
   "source": [
    "# Step 1: read in data from the .xls file, export only the fields that we need\n",
    "raw_data=pd.read_csv(DATA_FILE, usecols=['price','sqft_living'])\n",
    "raw_data.head()"
   ]
  },
  {
   "cell_type": "code",
   "execution_count": 498,
   "metadata": {},
   "outputs": [
    {
     "name": "stdout",
     "output_type": "stream",
     "text": [
      "Samples: 21612\n",
      "Truncated Samples: 99\n"
     ]
    },
    {
     "data": {
      "text/html": [
       "<div>\n",
       "<style>\n",
       "    .dataframe thead tr:only-child th {\n",
       "        text-align: right;\n",
       "    }\n",
       "\n",
       "    .dataframe thead th {\n",
       "        text-align: left;\n",
       "    }\n",
       "\n",
       "    .dataframe tbody tr th {\n",
       "        vertical-align: top;\n",
       "    }\n",
       "</style>\n",
       "<table border=\"1\" class=\"dataframe\">\n",
       "  <thead>\n",
       "    <tr style=\"text-align: right;\">\n",
       "      <th></th>\n",
       "      <th>price</th>\n",
       "      <th>sqft_living</th>\n",
       "    </tr>\n",
       "  </thead>\n",
       "  <tbody>\n",
       "    <tr>\n",
       "      <th>7548</th>\n",
       "      <td>575000.0</td>\n",
       "      <td>1490.0</td>\n",
       "    </tr>\n",
       "    <tr>\n",
       "      <th>8763</th>\n",
       "      <td>655000.0</td>\n",
       "      <td>3690.0</td>\n",
       "    </tr>\n",
       "    <tr>\n",
       "      <th>14355</th>\n",
       "      <td>850000.0</td>\n",
       "      <td>1590.0</td>\n",
       "    </tr>\n",
       "    <tr>\n",
       "      <th>11733</th>\n",
       "      <td>295000.0</td>\n",
       "      <td>720.0</td>\n",
       "    </tr>\n",
       "    <tr>\n",
       "      <th>8891</th>\n",
       "      <td>240000.0</td>\n",
       "      <td>1880.0</td>\n",
       "    </tr>\n",
       "  </tbody>\n",
       "</table>\n",
       "</div>"
      ],
      "text/plain": [
       "          price  sqft_living\n",
       "7548   575000.0       1490.0\n",
       "8763   655000.0       3690.0\n",
       "14355  850000.0       1590.0\n",
       "11733  295000.0        720.0\n",
       "8891   240000.0       1880.0"
      ]
     },
     "execution_count": 498,
     "metadata": {},
     "output_type": "execute_result"
    }
   ],
   "source": [
    "#Step 2 Do some data cleaning\n",
    "df = raw_data\n",
    "n_samples= df.shape[0]-1\n",
    "print(\"Samples: %i\" % n_samples)\n",
    "df=df.dropna()  #drop mising values\n",
    "df=df.sample(100)  #trim random samples for time\n",
    "df=df.applymap(lambda x: float(x))  #map all strings and ints to floats\n",
    "n_samples= df.shape[0]-1\n",
    "print(\"Truncated Samples: %i\" % n_samples)\n",
    "df.head()"
   ]
  },
  {
   "cell_type": "code",
   "execution_count": 494,
   "metadata": {
    "collapsed": true
   },
   "outputs": [],
   "source": [
    "#convert dataframe to arrays for dependent and independent variables\n",
    "y = df['price'].values\n",
    "x = df['sqft_living'].values"
   ]
  },
  {
   "cell_type": "code",
   "execution_count": 495,
   "metadata": {},
   "outputs": [
    {
     "data": {
      "image/png": "[encoded data removed]",
      "text/plain": [
       "<matplotlib.figure.Figure at 0x182b397da0>"
      ]
     },
     "metadata": {},
     "output_type": "display_data"
    }
   ],
   "source": [
    "# Plot of Training Data \n",
    "plt.scatter(x, y) \n",
    "plt.xlabel('x') \n",
    "plt.xlabel('y') \n",
    "plt.title(\"Training Data\") \n",
    "plt.show()"
   ]
  },
  {
   "cell_type": "code",
   "execution_count": 496,
   "metadata": {},
   "outputs": [
    {
     "name": "stdout",
     "output_type": "stream",
     "text": [
      "Epoch 50 : cost = nan W = nan b = nan\n",
      "Epoch 100 : cost = nan W = nan b = nan\n",
      "Epoch 150 : cost = nan W = nan b = nan\n",
      "Epoch 200 : cost = nan W = nan b = nan\n",
      "Epoch 250 : cost = nan W = nan b = nan\n",
      "Epoch 300 : cost = nan W = nan b = nan\n",
      "Epoch 350 : cost = nan W = nan b = nan\n",
      "Epoch 400 : cost = nan W = nan b = nan\n",
      "Epoch 450 : cost = nan W = nan b = nan\n",
      "Epoch 500 : cost = nan W = nan b = nan\n",
      "Epoch 550 : cost = nan W = nan b = nan\n",
      "Epoch 600 : cost = nan W = nan b = nan\n",
      "Epoch 650 : cost = nan W = nan b = nan\n",
      "Epoch 700 : cost = nan W = nan b = nan\n",
      "Epoch 750 : cost = nan W = nan b = nan\n",
      "Epoch 800 : cost = nan W = nan b = nan\n",
      "Epoch 850 : cost = nan W = nan b = nan\n",
      "Epoch 900 : cost = nan W = nan b = nan\n",
      "Epoch 950 : cost = nan W = nan b = nan\n",
      "Epoch 1000 : cost = nan W = nan b = nan\n"
     ]
    }
   ],
   "source": [
    "#defining the placeholders X and Y, \n",
    "#so that we can feed our training examples X and Y into the optimizer during the training process.\n",
    "X = tf.placeholder(\"float\") \n",
    "Y = tf.placeholder(\"float\")\n",
    "\n",
    "#defining the weight and bias\n",
    "W = tf.Variable(np.random.randn(), name = \"W\") \n",
    "b = tf.Variable(np.random.randn(), name = \"b\") \n",
    "\n",
    "#hyper parameters\n",
    "learning_rate = 0.01\n",
    "training_epochs = 1000\n",
    "\n",
    "# Hypothesis \n",
    "y_pred = tf.add(tf.multiply(X, W), b) \n",
    "  \n",
    "# Mean Squared Error Cost Function \n",
    "cost = tf.reduce_sum(tf.pow(y_pred-Y, 2)) / (2 * n) \n",
    "  \n",
    "# Gradient Descent Optimizer \n",
    "optimizer = tf.train.GradientDescentOptimizer(learning_rate).minimize(cost) \n",
    "  \n",
    "# Global Variables Initializer \n",
    "init = tf.global_variables_initializer() \n",
    "\n",
    "\n",
    "# Starting the Tensorflow Session \n",
    "with tf.Session() as sess: \n",
    "      \n",
    "    # Initializing the Variables \n",
    "    sess.run(init) \n",
    "      \n",
    "    # Iterating through all the epochs \n",
    "    for epoch in range(training_epochs): \n",
    "          \n",
    "        # Feeding each data point into the optimizer using Feed Dictionary \n",
    "        for (_x, _y) in zip(x, y): \n",
    "            sess.run(optimizer, feed_dict = {X : _x, Y : _y}) \n",
    "          \n",
    "        # Displaying the result after every 50 epochs \n",
    "        if (epoch + 1) % 50 == 0: \n",
    "            # Calculating the cost a every epoch \n",
    "            c = sess.run(cost, feed_dict = {X : x, Y : y}) \n",
    "            print(\"Epoch\", (epoch + 1), \": cost =\", c, \"W =\", sess.run(W), \"b =\", sess.run(b)) \n",
    "      \n",
    "    # Storing necessary values to be used outside the Session \n",
    "    training_cost = sess.run(cost, feed_dict ={X: x, Y: y}) \n",
    "    weight = sess.run(W) \n",
    "    bias = sess.run(b) "
   ]
  },
  {
   "cell_type": "code",
   "execution_count": 499,
   "metadata": {},
   "outputs": [
    {
     "name": "stdout",
     "output_type": "stream",
     "text": [
      "Training cost = nan Weight = nan bias = nan \n",
      "\n"
     ]
    }
   ],
   "source": [
    "# Calculating the predictions \n",
    "predictions = weight * x + bias \n",
    "print(\"Training cost =\", training_cost, \"Weight =\", weight, \"bias =\", bias, '\\n') \n"
   ]
  },
  {
   "cell_type": "code",
   "execution_count": 500,
   "metadata": {},
   "outputs": [
    {
     "data": {
      "image/png": "[encoded data removed]",
      "text/plain": [
       "<matplotlib.figure.Figure at 0x182aab7e48>"
      ]
     },
     "metadata": {},
     "output_type": "display_data"
    }
   ],
   "source": [
    "# Plotting the Results \n",
    "plt.plot(x, y, 'ro', label ='Original data') \n",
    "plt.plot(x, predictions, label ='Fitted line') \n",
    "plt.title('Linear Regression Result') \n",
    "plt.legend() \n",
    "plt.show() "
   ]
  },
  {
   "cell_type": "code",
   "execution_count": 471,
   "metadata": {},
   "outputs": [],
   "source": [
    "# using linear function y = Wx + b\n",
    "lm = W*x + b\n",
    "\n",
    "#calculating squared error\n",
    "loss = tf.reduce_sum(tf.square(lm - y))\n",
    "\n",
    "#using Gradient Descent with learning rate 0.01\n",
    "optimizer = tf.train.GradientDescentOptimizer(0.01)\n",
    "\n",
    "#minimizing loss\n",
    "train = optimizer.minimize(loss)"
   ]
  },
  {
   "cell_type": "code",
   "execution_count": 472,
   "metadata": {},
   "outputs": [
    {
     "name": "stdout",
     "output_type": "stream",
     "text": [
      "[array([-0.99999887], dtype=float32), array([ 0.9999966], dtype=float32)]\n",
      "[-3.99999762 -4.99999666 -5.99999523 -6.99999428]\n"
     ]
    }
   ],
   "source": [
    "session = tf.Session()\n",
    "init = tf.global_variables_initializer()\n",
    "session.run(init)\n",
    "\n",
    "#training model for 1000 iterations\n",
    "for i in range(1000):\n",
    "    session.run(train, {x:x_train, y:y_train})\n",
    "\n",
    "#final values of W and b\n",
    "print(session.run([W,b]))\n",
    "#output of the model\n",
    "print(session.run(lm,{x:[5,6,7,8]}))"
   ]
  },
  {
   "cell_type": "code",
   "execution_count": 406,
   "metadata": {},
   "outputs": [
    {
     "name": "stdout",
     "output_type": "stream",
     "text": [
      "1       []\n",
      "2       []\n",
      "3       []\n",
      "4       []\n",
      "5       []\n",
      "6       []\n",
      "7       []\n",
      "8       []\n",
      "9       []\n",
      "10      []\n",
      "11      []\n",
      "12      []\n",
      "13      []\n",
      "14      []\n",
      "15      []\n",
      "16      []\n",
      "17      []\n",
      "18      []\n",
      "19      []\n",
      "20      []\n",
      "21      []\n",
      "22      []\n",
      "23      []\n",
      "24      []\n",
      "25      []\n",
      "26      []\n",
      "27      []\n",
      "28      []\n",
      "29      []\n",
      "30      []\n",
      "        ..\n",
      "4970    []\n",
      "4971    []\n",
      "4972    []\n",
      "4973    []\n",
      "4974    []\n",
      "4975    []\n",
      "4976    []\n",
      "4977    []\n",
      "4978    []\n",
      "4979    []\n",
      "4980    []\n",
      "4981    []\n",
      "4982    []\n",
      "4983    []\n",
      "4984    []\n",
      "4985    []\n",
      "4986    []\n",
      "4987    []\n",
      "4988    []\n",
      "4989    []\n",
      "4990    []\n",
      "4991    []\n",
      "4992    []\n",
      "4993    []\n",
      "4994    []\n",
      "4995    []\n",
      "4996    []\n",
      "4997    []\n",
      "4998    []\n",
      "4999    []\n",
      "Name: sqft_living, Length: 4999, dtype: object\n"
     ]
    }
   ],
   "source": [
    "df.head()\n",
    "y_predictions =df['sqft_living'].apply(lambda x: x*w_value + b_value)\n",
    "print(y_predictions)\n",
    "# plt.plot(x_data, y_data,'bo', label='Real data')\n",
    "# plt.plot(x_data,y_predictions, 'r', label='Predicted data') \n",
    "# plt.legend()\n",
    "# plt.show()"
   ]
  },
  {
   "cell_type": "raw",
   "metadata": {},
   "source": []
  }
 ],
 "metadata": {
  "kernelspec": {
   "display_name": "Python 3",
   "language": "python",
   "name": "python3"
  },
  "language_info": {
   "codemirror_mode": {
    "name": "ipython",
    "version": 3
   },
   "file_extension": ".py",
   "mimetype": "text/x-python",
   "name": "python",
   "nbconvert_exporter": "python",
   "pygments_lexer": "ipython3",
   "version": "3.6.0"
  }
 },
 "nbformat": 4,
 "nbformat_minor": 2
}
