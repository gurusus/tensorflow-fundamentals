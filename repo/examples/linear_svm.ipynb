{
 "cells": [
  {
   "cell_type": "markdown",
   "metadata": {},
   "source": [
    "# Linear Support Vector Machine: Soft Margin\n",
    "----------------------------------\n",
    "\n",
    "This function shows how to use TensorFlow to create a soft margin SVM\n",
    "\n",
    "We will use the iris data, specifically:\n",
    "\n",
    "$x_1 =$ Sepal Length\n",
    "\n",
    "$x_2 =$ Petal Width\n",
    "\n",
    "Class 1 : `I. setosa`\n",
    "\n",
    "Class -1: `not I. setosa`\n",
    "\n",
    "We know here that x and y are linearly seperable for I. setosa classification.\n",
    "\n",
    "\n",
    ">Note that we implement the soft margin with an allowable margin of error for points.  The margin of error term is given by 'alpha' below.  To behave like a hard margin SVM, set alpha = 0. (in notebook code block #7)"
   ]
  },
  {
   "cell_type": "code",
   "execution_count": 1,
   "metadata": {},
   "outputs": [
    {
     "name": "stderr",
     "output_type": "stream",
     "text": [
      "/anaconda3/lib/python3.6/importlib/_bootstrap.py:205: RuntimeWarning: compiletime version 3.5 of module 'tensorflow.python.framework.fast_tensor_util' does not match runtime version 3.6\n",
      "  return f(*args, **kwds)\n"
     ]
    }
   ],
   "source": [
    "import matplotlib.pyplot as plt\n",
    "import numpy as np\n",
    "import tensorflow as tf\n",
    "from sklearn import datasets\n",
    "from tensorflow.python.framework import ops\n",
    "ops.reset_default_graph()"
   ]
  },
  {
   "cell_type": "markdown",
   "metadata": {},
   "source": [
    "Set a random seed and start a computational graph."
   ]
  },
  {
   "cell_type": "code",
   "execution_count": 2,
   "metadata": {
    "collapsed": true
   },
   "outputs": [],
   "source": [
    "np.random.seed(22)\n",
    "tf.set_random_seed(22)\n",
    "sess = tf.Session()"
   ]
  },
  {
   "cell_type": "markdown",
   "metadata": {},
   "source": [
    "Load the iris data set from sklearn datasets(not part of TF)"
   ]
  },
  {
   "cell_type": "code",
   "execution_count": 3,
   "metadata": {
    "collapsed": true
   },
   "outputs": [],
   "source": [
    "# iris.data = [(Sepal Length, Sepal Width, Petal Length, Petal Width)]\n",
    "iris = datasets.load_iris()\n",
    "x_vals = np.array([[x[0], x[3]] for x in iris.data])\n",
    "y_vals = np.array([1 if y == 0 else -1 for y in iris.target])"
   ]
  },
  {
   "cell_type": "markdown",
   "metadata": {},
   "source": [
    "Split data into train/test sets"
   ]
  },
  {
   "cell_type": "code",
   "execution_count": 6,
   "metadata": {
    "collapsed": true
   },
   "outputs": [],
   "source": [
    "train_indices = np.random.choice(len(x_vals),\n",
    "                                 round(len(x_vals)*0.8),\n",
    "                                 replace=False)\n",
    "test_indices = np.array(list(set(range(len(x_vals))) - set(train_indices)))\n",
    "x_vals_train = x_vals[train_indices]\n",
    "x_vals_test = x_vals[test_indices]\n",
    "y_vals_train = y_vals[train_indices]\n",
    "y_vals_test = y_vals[test_indices]"
   ]
  },
  {
   "cell_type": "markdown",
   "metadata": {},
   "source": [
    "Set model parameters, placeholders, and coefficients."
   ]
  },
  {
   "cell_type": "code",
   "execution_count": 5,
   "metadata": {
    "collapsed": true
   },
   "outputs": [],
   "source": [
    "# Declare batch size\n",
    "batch_size = 110\n",
    "\n",
    "# Initialize placeholders.  Shape represents 2 dimensions for the 2 features and None is a wild card \n",
    "# for the number of samples\n",
    "x_data = tf.placeholder(shape=[None, 2], dtype=tf.float32)\n",
    "y_target = tf.placeholder(shape=[None, 1], dtype=tf.float32)\n",
    "\n",
    "# Create variables for SVM two weights for each features and a bias\n",
    "A = tf.Variable(tf.random_normal(shape=[2, 1]))\n",
    "b = tf.Variable(tf.random_normal(shape=[1, 1]))"
   ]
  },
  {
   "cell_type": "markdown",
   "metadata": {},
   "source": [
    "Declare our model and L2 Norm\n",
    "\n",
    "SVM linear model is given by the equation:\n",
    "\n",
    "$$\\left[ \\frac{1}{n} \\sum_{i=1}^{n} \\max(0, 1 - y_i(A \\cdot x - b)) \\right] + \\alpha \\cdot ||A||^{2}$$\n",
    "\n",
    "Our loss function will be the above quantity and we will tell TensorFlow to minimize it. Note that $n$ is the number of points (in a batch), $A$ is the hyperplane-normal vector (to solve for), $b$ is the hyperplane-offset (to solve for), and $\\alpha$ is the soft-margin parameter."
   ]
  },
  {
   "cell_type": "code",
   "execution_count": 8,
   "metadata": {
    "collapsed": true
   },
   "outputs": [],
   "source": [
    "# Declare model operations\n",
    "model_output = tf.subtract(tf.matmul(x_data, A), b)\n",
    "\n",
    "# Declare vector L2 'norm' function squared\n",
    "l2_norm = tf.reduce_sum(tf.square(A))"
   ]
  },
  {
   "cell_type": "markdown",
   "metadata": {},
   "source": [
    "Here we make our special loss function based on the classification of the points (which side of the line they fall on).\n",
    "\n",
    "Also, note that `alpha` is the soft-margin term and an be increased to allow for more erroroneous classification points.  For hard-margin behaviour, set `alpha = 0`."
   ]
  },
  {
   "cell_type": "code",
   "execution_count": 9,
   "metadata": {
    "collapsed": true
   },
   "outputs": [],
   "source": [
    "# Declare loss function\n",
    "# Loss = max(0, 1-pred*actual) + alpha * L2_norm(A)^2\n",
    "# L2 regularization parameter, alpha\n",
    "\n",
    "alpha = tf.constant([0.01])\n",
    "\n",
    "# Margin term in loss\n",
    "classification_term = tf.reduce_mean(tf.maximum(0., tf.subtract(1., tf.multiply(model_output, y_target))))\n",
    "\n",
    "# Put terms together\n",
    "loss = tf.add(classification_term, tf.multiply(alpha, l2_norm))"
   ]
  },
  {
   "cell_type": "markdown",
   "metadata": {},
   "source": [
    "Creat the prediction function, optimization algorithm, and initialize the variables."
   ]
  },
  {
   "cell_type": "code",
   "execution_count": 11,
   "metadata": {
    "collapsed": true
   },
   "outputs": [],
   "source": [
    "# Declare prediction function\n",
    "prediction = tf.sign(model_output)\n",
    "accuracy = tf.reduce_mean(tf.cast(tf.equal(prediction, y_target), tf.float32))\n",
    "\n",
    "# Declare optimizer\n",
    "my_opt = tf.train.AdamOptimizer(0.005)\n",
    "train_step = my_opt.minimize(loss)\n",
    "\n",
    "# Initialize variables\n",
    "init = tf.global_variables_initializer()\n",
    "sess.run(init)"
   ]
  },
  {
   "cell_type": "markdown",
   "metadata": {},
   "source": [
    "Now we can start the training loop."
   ]
  },
  {
   "cell_type": "code",
   "execution_count": 12,
   "metadata": {},
   "outputs": [
    {
     "name": "stdout",
     "output_type": "stream",
     "text": [
      "Step #75 A = [[ 0.35024971]\n",
      " [-0.83082443]], b = [[-0.37181425]]\n",
      "Loss = [ 1.63032031]\n",
      "Step #150 A = [[ 0.09683795]\n",
      " [-1.12742782]], b = [[-0.13376185]]\n",
      "Loss = [ 0.2901504]\n",
      "Step #225 A = [[ 0.104646  ]\n",
      " [-1.22866905]], b = [[-0.17804614]]\n",
      "Loss = [ 0.3200365]\n",
      "Step #300 A = [[ 0.12246367]\n",
      " [-1.34203839]], b = [[-0.24097019]]\n",
      "Loss = [ 0.24671514]\n",
      "Step #375 A = [[ 0.14412145]\n",
      " [-1.47201478]], b = [[-0.31601155]]\n",
      "Loss = [ 0.22674549]\n",
      "Step #450 A = [[ 0.15923664]\n",
      " [-1.61513042]], b = [[-0.38871989]]\n",
      "Loss = [ 0.17485607]\n",
      "Step #525 A = [[ 0.16684327]\n",
      " [-1.73885834]], b = [[-0.45076779]]\n",
      "Loss = [ 0.16522968]\n",
      "Step #600 A = [[ 0.16950487]\n",
      " [-1.85164988]], b = [[-0.5027653]]\n",
      "Loss = [ 0.10789013]\n",
      "Step #675 A = [[ 0.17199273]\n",
      " [-1.93972552]], b = [[-0.54921824]]\n",
      "Loss = [ 0.1647763]\n",
      "Step #750 A = [[ 0.17297392]\n",
      " [-2.00292063]], b = [[-0.58634251]]\n",
      "Loss = [ 0.11831301]\n",
      "Step #825 A = [[ 0.17245042]\n",
      " [-2.05480886]], b = [[-0.61658633]]\n",
      "Loss = [ 0.10197799]\n",
      "Step #900 A = [[ 0.17219257]\n",
      " [-2.09198642]], b = [[-0.64051819]]\n",
      "Loss = [ 0.10603134]\n",
      "Step #975 A = [[ 0.16825689]\n",
      " [-2.12849474]], b = [[-0.65793288]]\n",
      "Loss = [ 0.09866478]\n",
      "Step #1050 A = [[ 0.16606386]\n",
      " [-2.16618133]], b = [[-0.67873007]]\n",
      "Loss = [ 0.10193559]\n",
      "Step #1125 A = [[ 0.1656072 ]\n",
      " [-2.19282341]], b = [[-0.69733614]]\n",
      "Loss = [ 0.08489943]\n",
      "Step #1200 A = [[ 0.16916771]\n",
      " [-2.21687746]], b = [[-0.7199108]]\n",
      "Loss = [ 0.10338122]\n",
      "Step #1275 A = [[ 0.16867413]\n",
      " [-2.23902011]], b = [[-0.737894]]\n",
      "Loss = [ 0.08241119]\n",
      "Step #1350 A = [[ 0.16963242]\n",
      " [-2.26150227]], b = [[-0.75861132]]\n",
      "Loss = [ 0.11231167]\n",
      "Step #1425 A = [[ 0.17116117]\n",
      " [-2.28030658]], b = [[-0.78010213]]\n",
      "Loss = [ 0.09847819]\n",
      "Step #1500 A = [[ 0.1741588 ]\n",
      " [-2.30138993]], b = [[-0.8054952]]\n",
      "Loss = [ 0.09423354]\n"
     ]
    }
   ],
   "source": [
    "# Training loop\n",
    "loss_vec = []\n",
    "train_accuracy = []\n",
    "test_accuracy = []\n",
    "for i in range(1500):\n",
    "    rand_index = np.random.choice(len(x_vals_train), size=batch_size)\n",
    "    rand_x = x_vals_train[rand_index]\n",
    "    rand_y = np.transpose([y_vals_train[rand_index]])\n",
    "    sess.run(train_step, feed_dict={x_data: rand_x, y_target: rand_y})\n",
    "\n",
    "    temp_loss = sess.run(loss, feed_dict={x_data: rand_x, y_target: rand_y})\n",
    "    loss_vec.append(temp_loss)\n",
    "\n",
    "    train_acc_temp = sess.run(accuracy, feed_dict={\n",
    "        x_data: x_vals_train,\n",
    "        y_target: np.transpose([y_vals_train])})\n",
    "    train_accuracy.append(train_acc_temp)\n",
    "\n",
    "    test_acc_temp = sess.run(accuracy, feed_dict={\n",
    "        x_data: x_vals_test,\n",
    "        y_target: np.transpose([y_vals_test])})\n",
    "    test_accuracy.append(test_acc_temp)\n",
    "\n",
    "    if (i + 1) % 75 == 0:\n",
    "        print('Step #{} A = {}, b = {}'.format(\n",
    "            str(i+1),\n",
    "            str(sess.run(A)),\n",
    "            str(sess.run(b))\n",
    "        ))\n",
    "        print('Loss = ' + str(temp_loss))"
   ]
  },
  {
   "cell_type": "markdown",
   "metadata": {},
   "source": [
    "Now we extract the linear coefficients and get the SVM boundary line."
   ]
  },
  {
   "cell_type": "code",
   "execution_count": 13,
   "metadata": {
    "collapsed": true
   },
   "outputs": [],
   "source": [
    "# Extract coefficients\n",
    "[[a1], [a2]] = sess.run(A)\n",
    "[[b]] = sess.run(b)\n",
    "slope = -a2/a1\n",
    "y_intercept = b/a1\n",
    "\n",
    "# Extract x1 and x2 vals\n",
    "x1_vals = [d[1] for d in x_vals]\n",
    "\n",
    "# Get best fit line\n",
    "best_fit = []\n",
    "for i in x1_vals:\n",
    "    best_fit.append(slope*i+y_intercept)\n",
    "\n",
    "# Separate I. setosa\n",
    "setosa_x = [d[1] for i, d in enumerate(x_vals) if y_vals[i] == 1]\n",
    "setosa_y = [d[0] for i, d in enumerate(x_vals) if y_vals[i] == 1]\n",
    "not_setosa_x = [d[1] for i, d in enumerate(x_vals) if y_vals[i] == -1]\n",
    "not_setosa_y = [d[0] for i, d in enumerate(x_vals) if y_vals[i] == -1]"
   ]
  },
  {
   "cell_type": "markdown",
   "metadata": {},
   "source": [
    "Matplotlib code for plotting"
   ]
  },
  {
   "cell_type": "code",
   "execution_count": 14,
   "metadata": {},
   "outputs": [
    {
     "data": {
      "image/png": "[encoded data removed]",
      "text/plain": [
       "<matplotlib.figure.Figure at 0x1a21543f98>"
      ]
     },
     "metadata": {},
     "output_type": "display_data"
    },
    {
     "data": {
      "image/png": "[encoded data removed]",
      "text/plain": [
       "<matplotlib.figure.Figure at 0x1a29aa1c88>"
      ]
     },
     "metadata": {},
     "output_type": "display_data"
    },
    {
     "data": {
      "image/png": "[encoded data removed]",
      "text/plain": [
       "<matplotlib.figure.Figure at 0x1a29b09cc0>"
      ]
     },
     "metadata": {},
     "output_type": "display_data"
    }
   ],
   "source": [
    "%matplotlib inline\n",
    "# Plot data and line\n",
    "plt.plot(setosa_x, setosa_y, 'o', label='I. setosa')\n",
    "plt.plot(not_setosa_x, not_setosa_y, 'x', label='Non-setosa')\n",
    "plt.plot(x1_vals, best_fit, 'r-', label='Linear Separator', linewidth=3)\n",
    "plt.ylim([0, 10])\n",
    "plt.legend(loc='lower right')\n",
    "plt.title('Sepal Length vs Petal Width')\n",
    "plt.xlabel('Petal Width')\n",
    "plt.ylabel('Sepal Length')\n",
    "plt.show()\n",
    "\n",
    "# Plot train/test accuracies\n",
    "plt.plot(train_accuracy, 'k-', label='Training Accuracy')\n",
    "plt.plot(test_accuracy, 'r--', label='Test Accuracy')\n",
    "plt.title('Train and Test Set Accuracies')\n",
    "plt.xlabel('Generation')\n",
    "plt.ylabel('Accuracy')\n",
    "plt.legend(loc='lower right')\n",
    "plt.show()\n",
    "\n",
    "# Plot loss over time\n",
    "plt.plot(loss_vec, 'k-')\n",
    "plt.title('Loss per Generation')\n",
    "plt.xlabel('Generation')\n",
    "plt.ylabel('Loss')\n",
    "plt.show()"
   ]
  },
  {
   "cell_type": "code",
   "execution_count": null,
   "metadata": {
    "collapsed": true
   },
   "outputs": [],
   "source": []
  }
 ],
 "metadata": {
  "kernelspec": {
   "display_name": "Python 3",
   "language": "python",
   "name": "python3"
  },
  "language_info": {
   "codemirror_mode": {
    "name": "ipython",
    "version": 3
   },
   "file_extension": ".py",
   "mimetype": "text/x-python",
   "name": "python",
   "nbconvert_exporter": "python",
   "pygments_lexer": "ipython3",
   "version": "3.6.0"
  }
 },
 "nbformat": 4,
 "nbformat_minor": 1
}
