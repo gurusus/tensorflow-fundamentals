{
 "cells": [
  {
   "cell_type": "markdown",
   "metadata": {},
   "source": [
    "# Lab: TF Graph and Calculations\n",
    "\n",
    "## Part A:\n",
    "\n",
    "My wife is always asking me the temperature in Celsius.  Please help me to create a simple linear function with TF that converts a list of Farhenheit temperatures. \n",
    "\n",
    "temps = [35, 12, 15, 5, 75, 105, 89]\n",
    "\n",
    "Write your graph to tensorboard and take a look.\n",
    "\n",
    "### write graph to tensorboard\n",
    "\n",
    "    file_writer = tf.summary.FileWriter(\"/path/to/directory\", sess.graph)\n",
    "\n",
    "### run tensorboard\n",
    "\n",
    "    tensorboard –-logdir=E:/code/output "
   ]
  },
  {
   "cell_type": "markdown",
   "metadata": {},
   "source": [
    "\n",
    "## Part B: Calculate the first 15 Fibonacci numbers using TensorFlow API: \n",
    "\n",
    "\n",
    "F_n= F_(n-1)+ F_(n-2),\n",
    "\n",
    "with seed values: F_0=0,F_1=1.\n",
    " \n",
    "Export TensorFlow graph crated in this problem to a directory of your choice. \n",
    "\n",
    "Read and display that graph using TensorBoard tool. When starting the TensorBoard it appears that you need to specify the full directory path to the log directory.\n",
    "\n"
   ]
  },
  {
   "cell_type": "code",
   "execution_count": null,
   "metadata": {
    "collapsed": true
   },
   "outputs": [],
   "source": []
  }
 ],
 "metadata": {
  "kernelspec": {
   "display_name": "Python 3",
   "language": "python",
   "name": "python3"
  },
  "language_info": {
   "codemirror_mode": {
    "name": "ipython",
    "version": 3
   },
   "file_extension": ".py",
   "mimetype": "text/x-python",
   "name": "python",
   "nbconvert_exporter": "python",
   "pygments_lexer": "ipython3",
   "version": "3.6.0"
  }
 },
 "nbformat": 4,
 "nbformat_minor": 2
}
