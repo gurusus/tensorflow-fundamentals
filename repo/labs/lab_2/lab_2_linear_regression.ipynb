{
 "cells": [
  {
   "cell_type": "markdown",
   "metadata": {},
   "source": [
    "# Lab 1:  Linear Regression with Tensorflow\n",
    "\n",
    "We often hear insurance companies using factors such as number of fire and theft in a neighborhood to calculate how dangerous the neighborhood is.  The question is: is it redundant? Is there a relationship between the number of fire and theft in a neighborhood, and if there is, can we find it?\n",
    "\n",
    "Dataset Description:\n",
    "– Name: Fire and Theft in Chicago\n",
    "– X = fires per 1000 housing units\n",
    "– Y = thefts per 1000 population\n",
    "– within the same Zip code in the Chicago metro area\n",
    "– Total number of Zip code areas: 42\n",
    "\n",
    "## Use the Code Below to Import the Data and Build a Tensorflow Linear Regression Model \n",
    "\n",
    "What do you see?  \n",
    "Does linear model fit our data?  \n",
    "What changes would you make to the model?\n",
    "\n",
    "Try a polynomialc like cubic or quadratic model.....hint all you need to do is add weights and change the predictor funtion\n",
    "Feel free to tweek the learning rate or even the model to get better results.\n",
    "Use some different optimizers as well "
   ]
  },
  {
   "cell_type": "code",
   "execution_count": 1,
   "metadata": {},
   "outputs": [
    {
     "name": "stderr",
     "output_type": "stream",
     "text": [
      "/anaconda3/lib/python3.6/site-packages/h5py/__init__.py:34: FutureWarning: Conversion of the second argument of issubdtype from `float` to `np.floating` is deprecated. In future, it will be treated as `np.float64 == np.dtype(float).type`.\n",
      "  from ._conv import register_converters as _register_converters\n"
     ]
    },
    {
     "name": "stdout",
     "output_type": "stream",
     "text": [
      "1.13.1\n"
     ]
    }
   ],
   "source": [
    "import numpy as np\n",
    "import matplotlib.pyplot as plt\n",
    "import tensorflow as tf\n",
    "import xlrd\n",
    "import pandas as pd\n",
    "DATA_FILE = 'data/fire_theft.csv'\n",
    "print(tf.__version__)"
   ]
  },
  {
   "cell_type": "code",
   "execution_count": 2,
   "metadata": {},
   "outputs": [
    {
     "data": {
      "text/html": [
       "<div>\n",
       "<style>\n",
       "    .dataframe thead tr:only-child th {\n",
       "        text-align: right;\n",
       "    }\n",
       "\n",
       "    .dataframe thead th {\n",
       "        text-align: left;\n",
       "    }\n",
       "\n",
       "    .dataframe tbody tr th {\n",
       "        vertical-align: top;\n",
       "    }\n",
       "</style>\n",
       "<table border=\"1\" class=\"dataframe\">\n",
       "  <thead>\n",
       "    <tr style=\"text-align: right;\">\n",
       "      <th></th>\n",
       "      <th>X</th>\n",
       "      <th>Y</th>\n",
       "    </tr>\n",
       "  </thead>\n",
       "  <tbody>\n",
       "    <tr>\n",
       "      <th>0</th>\n",
       "      <td>6.2</td>\n",
       "      <td>29</td>\n",
       "    </tr>\n",
       "    <tr>\n",
       "      <th>1</th>\n",
       "      <td>9.5</td>\n",
       "      <td>44</td>\n",
       "    </tr>\n",
       "    <tr>\n",
       "      <th>2</th>\n",
       "      <td>10.5</td>\n",
       "      <td>36</td>\n",
       "    </tr>\n",
       "    <tr>\n",
       "      <th>3</th>\n",
       "      <td>7.7</td>\n",
       "      <td>37</td>\n",
       "    </tr>\n",
       "    <tr>\n",
       "      <th>4</th>\n",
       "      <td>8.6</td>\n",
       "      <td>53</td>\n",
       "    </tr>\n",
       "  </tbody>\n",
       "</table>\n",
       "</div>"
      ],
      "text/plain": [
       "      X   Y\n",
       "0   6.2  29\n",
       "1   9.5  44\n",
       "2  10.5  36\n",
       "3   7.7  37\n",
       "4   8.6  53"
      ]
     },
     "execution_count": 2,
     "metadata": {},
     "output_type": "execute_result"
    }
   ],
   "source": [
    "# Read in data from the .xls file, export only the fields that we need\n",
    "raw_data=pd.read_csv(DATA_FILE)\n",
    "raw_data.head()"
   ]
  },
  {
   "cell_type": "code",
   "execution_count": 3,
   "metadata": {},
   "outputs": [
    {
     "name": "stdout",
     "output_type": "stream",
     "text": [
      "[ 6.2  9.5 10.5  7.7  8.6 34.1 11.   6.9  7.3 15.1 29.1  2.2  5.7  2.\n",
      "  2.5  4.   5.4  2.2  7.2 15.1 16.5 18.4 36.2 39.7 18.5 23.3 12.2  5.6\n",
      " 21.8 21.6  9.   3.6  5.  28.6 17.4 11.3  3.4 11.9 10.5 10.7 10.8  4.8]\n",
      "[ 29  44  36  37  53  68  75  18  31  25  34  14  11  11  22  16  27   9\n",
      "  29  30  40  32  41 147  22  29  46  23   4  31  39  15  32  27  32  34\n",
      "  17  46  42  43  34  19]\n"
     ]
    }
   ],
   "source": [
    "# transform dataframe into two arrays of independant and dependent variables\n",
    "df=raw_data.copy()\n",
    "x = df['X'].values\n",
    "y = df['Y'].values\n",
    "print(x)\n",
    "print(y)"
   ]
  },
  {
   "cell_type": "code",
   "execution_count": null,
   "metadata": {
    "collapsed": true
   },
   "outputs": [],
   "source": []
  }
 ],
 "metadata": {
  "kernelspec": {
   "display_name": "Python 3",
   "language": "python",
   "name": "python3"
  },
  "language_info": {
   "codemirror_mode": {
    "name": "ipython",
    "version": 3
   },
   "file_extension": ".py",
   "mimetype": "text/x-python",
   "name": "python",
   "nbconvert_exporter": "python",
   "pygments_lexer": "ipython3",
   "version": "3.6.0"
  }
 },
 "nbformat": 4,
 "nbformat_minor": 2
}
